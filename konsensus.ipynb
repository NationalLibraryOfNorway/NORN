{
 "cells": [
  {
   "cell_type": "code",
   "execution_count": 1,
   "id": "c5df7721-c3f9-467d-b3a8-52cea9837b77",
   "metadata": {
    "tags": []
   },
   "outputs": [],
   "source": [
    "import dhlab as dh\n",
    "import pandas as pd"
   ]
  },
  {
   "cell_type": "code",
   "execution_count": 2,
   "id": "c984a779-709c-48e8-ab37-cff275a77ed1",
   "metadata": {
    "tags": []
   },
   "outputs": [],
   "source": [
    "corp = pd.read_excel('konsensuskorpus.xlsx')"
   ]
  },
  {
   "cell_type": "code",
   "execution_count": 7,
   "id": "dc15aaea-994c-4889-adce-bd5fb2cccb6d",
   "metadata": {
    "tags": []
   },
   "outputs": [
    {
     "data": {
      "text/plain": [
       "array([['Den spilte Drik', 'Welhaven, J. S.', '[1848]', nan, nan, nan,\n",
       "        nan, nan, nan, nan, nan, 'x, 160', nan, nan,\n",
       "        'http://urn.nb.no/URN:NBN:no-nb_digibok_2012030524007',\n",
       "        '137-139', nan, nan],\n",
       "       ['Sange og Rim for det norske Folk', 'Vig, O.', '[1854]', nan,\n",
       "        nan, 'x, 128', nan, nan, nan, nan, nan, nan, nan, nan,\n",
       "        'http://urn.nb.no/URN:NBN:no-nb_digibok_2008111903017', nan, nan,\n",
       "        nan],\n",
       "       ['Halte-Hulda', 'Bjørnson, B.', '[1857]', nan, nan, nan, nan,\n",
       "        'x, 152 (127)', nan, nan, nan, nan, nan, nan,\n",
       "        'http://urn.nb.no/URN:NBN:no-nb_digibok_2008070812002', nan, nan,\n",
       "        nan],\n",
       "       ['Den Salige', 'Welhaven, J. S.', '[1848]', nan, nan, nan, nan,\n",
       "        'x, 119', nan, nan, 'x, 125', 'x, 160', nan, nan,\n",
       "        'http://urn.nb.no/URN:NBN:no-nb_digibok_2012030524007',\n",
       "        '120-121', nan, nan],\n",
       "       ['En Digtsamling*', 'Welhaven, J. S.', 1859, nan, nan, nan, nan,\n",
       "        nan, nan, nan, nan, 'x, 160-1', nan, nan,\n",
       "        'http://urn.nb.no/URN:NBN:no-nb_digibok_2008061012004', nan, nan,\n",
       "        nan],\n",
       "       [1848, 'Welhaven, J. S.', '[1848?]', nan, nan, nan, nan, nan, nan,\n",
       "        nan, 'x, 129', nan, nan, nan,\n",
       "        'http://urn.nb.no/URN:NBN:no-nb_digibok_2012030524007', nan, nan,\n",
       "        nan],\n",
       "       ['Herremandsbruden', 'Asbjørnsen, P. C.', '[1876]', nan, nan, nan,\n",
       "        nan, nan, nan, nan, nan, nan, 'x, 250', nan,\n",
       "        'http://urn.nb.no/URN:NBN:no-nb_digibok_2008102912003',\n",
       "        '270-273', nan,\n",
       "        '1876. Annen forøkede utgave av Asbjørnsens egne samling fra 1872. Første på Gyldendalske Forlag i Kjøbenhavn'],\n",
       "       ['[Om Renligheds-Stellet i Norge]', 'Sundt, E.', '[1869]', nan,\n",
       "        nan, nan, nan, nan, 'x, 200', nan, nan, nan, nan, nan,\n",
       "        'http://urn.nb.no/URN:NBN:no-nb_digibok_2010060806087', nan, nan,\n",
       "        nan],\n",
       "       ['Brødrene', 'Schulze, H. H. S.', '[1869]', nan, nan, nan, nan,\n",
       "        nan, nan, nan, nan, nan, nan, nan,\n",
       "        'http://urn.nb.no/URN:NBN:no-nb_digibok_2010052806022', '13-33',\n",
       "        nan, nan],\n",
       "       ['Luren', 'Hansen, M.', 1819, nan, 'z, 75 sentimental-romantisk',\n",
       "        nan, nan, nan, nan, nan, nan, nan, 'x, 219', nan,\n",
       "        'http://urn.nb.no/URN:NBN:no-nb_digibok_2007082703001', '89-98',\n",
       "        nan, 'Overlapp siste side. Opprinnelig trykt i Morgenbladet']],\n",
       "      dtype=object)"
      ]
     },
     "execution_count": 7,
     "metadata": {},
     "output_type": "execute_result"
    }
   ],
   "source": [
    "corp.sample(10).values\n",
    "#[corp.str.contains('x')]"
   ]
  }
 ],
 "metadata": {
  "kernelspec": {
   "display_name": "Python 3 (ipykernel)",
   "language": "python",
   "name": "python3"
  },
  "language_info": {
   "codemirror_mode": {
    "name": "ipython",
    "version": 3
   },
   "file_extension": ".py",
   "mimetype": "text/x-python",
   "name": "python",
   "nbconvert_exporter": "python",
   "pygments_lexer": "ipython3",
   "version": "3.9.15"
  }
 },
 "nbformat": 4,
 "nbformat_minor": 5
}
