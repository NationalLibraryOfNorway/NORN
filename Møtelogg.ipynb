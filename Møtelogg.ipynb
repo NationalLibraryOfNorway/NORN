{
 "cells": [
  {
   "cell_type": "markdown",
   "id": "5c95d7df-bb5c-462e-aa38-e0a43041474a",
   "metadata": {},
   "source": [
    "# Logg over møter"
   ]
  },
  {
   "cell_type": "markdown",
   "id": "f3f131d6-b691-4854-9d7b-6e025dfff36e",
   "metadata": {},
   "source": [
    "## 17. januar 2024\n",
    "\n",
    "1. convert 1800-1830 and 1840-1869 to corpuses. With Imagination metadata\n",
    "2. fetch fulltexts for all corpora\n",
    "3. make clean version of consensus"
   ]
  },
  {
   "cell_type": "code",
   "execution_count": null,
   "id": "58925196-ae67-4a12-a430-7787c860c63f",
   "metadata": {},
   "outputs": [],
   "source": []
  }
 ],
 "metadata": {
  "kernelspec": {
   "display_name": "Python 3 (ipykernel)",
   "language": "python",
   "name": "python3"
  },
  "language_info": {
   "codemirror_mode": {
    "name": "ipython",
    "version": 3
   },
   "file_extension": ".py",
   "mimetype": "text/x-python",
   "name": "python",
   "nbconvert_exporter": "python",
   "pygments_lexer": "ipython3",
   "version": "3.10.12"
  }
 },
 "nbformat": 4,
 "nbformat_minor": 5
}
