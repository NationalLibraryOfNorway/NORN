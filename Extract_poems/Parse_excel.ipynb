{
 "cells": [
  {
   "cell_type": "markdown",
   "metadata": {},
   "source": [
    "# Parse excel from norn collaborators"
   ]
  },
  {
   "cell_type": "code",
   "execution_count": 13,
   "metadata": {},
   "outputs": [],
   "source": [
    "import pandas as pd\n",
    "import numpy as np\n",
    "from typing import List, Iterable, Tuple, NamedTuple, TypedDict"
   ]
  },
  {
   "cell_type": "code",
   "execution_count": 7,
   "metadata": {},
   "outputs": [],
   "source": [
    "df = pd.read_excel(\"pabegynt_1880_dikt__sidetall.xlsx\", header=None)"
   ]
  },
  {
   "cell_type": "code",
   "execution_count": 98,
   "metadata": {},
   "outputs": [],
   "source": [
    "class Poem(NamedTuple):\n",
    "    urn: str\n",
    "    title: str\n",
    "    page_start: int\n",
    "    page_end: int\n",
    "    overlapp: str\n",
    "    digital_visning: str\n",
    "    comment: str\n",
    "    \n",
    "    \n",
    "class PoemCollection(NamedTuple):\n",
    "    poems: List[Poem]\n",
    "    urn : str\n",
    "    author: str\n",
    "    title: str\n",
    "    year: int\n",
    "    publisher: str\n",
    "    publisher_place: str"
   ]
  },
  {
   "cell_type": "code",
   "execution_count": 113,
   "metadata": {},
   "outputs": [],
   "source": [
    "# Create list of books\n",
    "\n",
    "book_list = []\n",
    "book = None\n",
    "for i, row in df.iterrows():\n",
    "    \n",
    "    if row[0] is not np.nan:\n",
    "        if book is not None:\n",
    "            book_list.append(book)\n",
    "        book = PoemCollection([], *row[:6])\n",
    "    else:\n",
    "        if row[1] == \"Tittel på dikt\":\n",
    "            continue\n",
    "        elif row[1] is np.nan:\n",
    "            continue\n",
    "        else:\n",
    "            book.poems.append(Poem(book.urn, *row[1:7]))"
   ]
  },
  {
   "cell_type": "code",
   "execution_count": 114,
   "metadata": {},
   "outputs": [],
   "source": [
    "poem_list = [x.poems for x in book_list if len(x.poems) > 0] # Remove books without poems added"
   ]
  },
  {
   "cell_type": "code",
   "execution_count": 118,
   "metadata": {},
   "outputs": [],
   "source": [
    "poems = [x for sublist in poem_list for x in sublist] # Flatten list of lists"
   ]
  },
  {
   "cell_type": "code",
   "execution_count": 120,
   "metadata": {},
   "outputs": [],
   "source": [
    "df = pd.DataFrame(poems)"
   ]
  },
  {
   "cell_type": "code",
   "execution_count": 122,
   "metadata": {},
   "outputs": [],
   "source": [
    "df.to_csv(\"poems.csv\", index=False)"
   ]
  },
  {
   "cell_type": "markdown",
   "metadata": {},
   "source": [
    "File page  https://api.nb.no/catalog/v1/metadata/URN:NBN:no-nb_digibok_2014110308039/altos/URN:NBN:no-nb_digibok_2014110308039_C1\n",
    "\n",
    "https://api.nb.no/catalog/v1/metadata/URN:NBN:no-nb_digibok_2014110308039/altos/URN:NBN:no-nb_digibok_2014110308039_I1\n",
    "\n"
   ]
  }
 ],
 "metadata": {
  "kernelspec": {
   "display_name": "norn-bHVydaHb-py3.10",
   "language": "python",
   "name": "python3"
  },
  "language_info": {
   "codemirror_mode": {
    "name": "ipython",
    "version": 3
   },
   "file_extension": ".py",
   "mimetype": "text/x-python",
   "name": "python",
   "nbconvert_exporter": "python",
   "pygments_lexer": "ipython3",
   "version": "3.10.10"
  }
 },
 "nbformat": 4,
 "nbformat_minor": 2
}
